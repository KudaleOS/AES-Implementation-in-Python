{
  "nbformat": 4,
  "nbformat_minor": 0,
  "metadata": {
    "colab": {
      "name": "AES.ipynb",
      "provenance": [],
      "collapsed_sections": []
    },
    "kernelspec": {
      "name": "python3",
      "display_name": "Python 3"
    }
  },
  "cells": [
    {
      "cell_type": "code",
      "metadata": {
        "id": "0bM8p4m8vWVF",
        "colab_type": "code",
        "outputId": "a28abb30-978f-42ff-a833-c48e331d6508",
        "colab": {
          "base_uri": "https://localhost:8080/",
          "height": 199
        }
      },
      "source": [
        "!pip install pycrypto"
      ],
      "execution_count": 0,
      "outputs": [
        {
          "output_type": "stream",
          "text": [
            "Collecting pycrypto\n",
            "\u001b[?25l  Downloading https://files.pythonhosted.org/packages/60/db/645aa9af249f059cc3a368b118de33889219e0362141e75d4eaf6f80f163/pycrypto-2.6.1.tar.gz (446kB)\n",
            "\r\u001b[K     |▊                               | 10kB 20.1MB/s eta 0:00:01\r\u001b[K     |█▌                              | 20kB 1.8MB/s eta 0:00:01\r\u001b[K     |██▏                             | 30kB 2.6MB/s eta 0:00:01\r\u001b[K     |███                             | 40kB 3.4MB/s eta 0:00:01\r\u001b[K     |███▊                            | 51kB 2.2MB/s eta 0:00:01\r\u001b[K     |████▍                           | 61kB 2.6MB/s eta 0:00:01\r\u001b[K     |█████▏                          | 71kB 3.0MB/s eta 0:00:01\r\u001b[K     |█████▉                          | 81kB 3.4MB/s eta 0:00:01\r\u001b[K     |██████▋                         | 92kB 2.6MB/s eta 0:00:01\r\u001b[K     |███████▍                        | 102kB 2.8MB/s eta 0:00:01\r\u001b[K     |████████                        | 112kB 2.8MB/s eta 0:00:01\r\u001b[K     |████████▉                       | 122kB 2.8MB/s eta 0:00:01\r\u001b[K     |█████████▌                      | 133kB 2.8MB/s eta 0:00:01\r\u001b[K     |██████████▎                     | 143kB 2.8MB/s eta 0:00:01\r\u001b[K     |███████████                     | 153kB 2.8MB/s eta 0:00:01\r\u001b[K     |███████████▊                    | 163kB 2.8MB/s eta 0:00:01\r\u001b[K     |████████████▌                   | 174kB 2.8MB/s eta 0:00:01\r\u001b[K     |█████████████▏                  | 184kB 2.8MB/s eta 0:00:01\r\u001b[K     |██████████████                  | 194kB 2.8MB/s eta 0:00:01\r\u001b[K     |██████████████▊                 | 204kB 2.8MB/s eta 0:00:01\r\u001b[K     |███████████████▍                | 215kB 2.8MB/s eta 0:00:01\r\u001b[K     |████████████████▏               | 225kB 2.8MB/s eta 0:00:01\r\u001b[K     |█████████████████               | 235kB 2.8MB/s eta 0:00:01\r\u001b[K     |█████████████████▋              | 245kB 2.8MB/s eta 0:00:01\r\u001b[K     |██████████████████▍             | 256kB 2.8MB/s eta 0:00:01\r\u001b[K     |███████████████████             | 266kB 2.8MB/s eta 0:00:01\r\u001b[K     |███████████████████▉            | 276kB 2.8MB/s eta 0:00:01\r\u001b[K     |████████████████████▋           | 286kB 2.8MB/s eta 0:00:01\r\u001b[K     |█████████████████████▎          | 296kB 2.8MB/s eta 0:00:01\r\u001b[K     |██████████████████████          | 307kB 2.8MB/s eta 0:00:01\r\u001b[K     |██████████████████████▊         | 317kB 2.8MB/s eta 0:00:01\r\u001b[K     |███████████████████████▌        | 327kB 2.8MB/s eta 0:00:01\r\u001b[K     |████████████████████████▎       | 337kB 2.8MB/s eta 0:00:01\r\u001b[K     |█████████████████████████       | 348kB 2.8MB/s eta 0:00:01\r\u001b[K     |█████████████████████████▊      | 358kB 2.8MB/s eta 0:00:01\r\u001b[K     |██████████████████████████▍     | 368kB 2.8MB/s eta 0:00:01\r\u001b[K     |███████████████████████████▏    | 378kB 2.8MB/s eta 0:00:01\r\u001b[K     |████████████████████████████    | 389kB 2.8MB/s eta 0:00:01\r\u001b[K     |████████████████████████████▋   | 399kB 2.8MB/s eta 0:00:01\r\u001b[K     |█████████████████████████████▍  | 409kB 2.8MB/s eta 0:00:01\r\u001b[K     |██████████████████████████████  | 419kB 2.8MB/s eta 0:00:01\r\u001b[K     |██████████████████████████████▉ | 430kB 2.8MB/s eta 0:00:01\r\u001b[K     |███████████████████████████████▋| 440kB 2.8MB/s eta 0:00:01\r\u001b[K     |████████████████████████████████| 450kB 2.8MB/s \n",
            "\u001b[?25hBuilding wheels for collected packages: pycrypto\n",
            "  Building wheel for pycrypto (setup.py) ... \u001b[?25l\u001b[?25hdone\n",
            "  Created wheel for pycrypto: filename=pycrypto-2.6.1-cp36-cp36m-linux_x86_64.whl size=499939 sha256=9e808e86fc27771b9c431aa0c1913656ce21ec0ac5dd4eee049096df2ccd7339\n",
            "  Stored in directory: /root/.cache/pip/wheels/27/02/5e/77a69d0c16bb63c6ed32f5386f33a2809c94bd5414a2f6c196\n",
            "Successfully built pycrypto\n",
            "Installing collected packages: pycrypto\n",
            "Successfully installed pycrypto-2.6.1\n"
          ],
          "name": "stdout"
        }
      ]
    },
    {
      "cell_type": "code",
      "metadata": {
        "id": "odVcLeUhve8_",
        "colab_type": "code",
        "colab": {}
      },
      "source": [
        "from Crypto.Cipher import AES"
      ],
      "execution_count": 0,
      "outputs": []
    },
    {
      "cell_type": "code",
      "metadata": {
        "id": "mzaYLjT1vfIx",
        "colab_type": "code",
        "colab": {}
      },
      "source": [
        "#key has to be either 16, 24 or 32 bytes\n",
        "def padKey(key):\n",
        "  while((len(key)%8)!=0):\n",
        "    key+=' '\n",
        "  return key"
      ],
      "execution_count": 0,
      "outputs": []
    },
    {
      "cell_type": "code",
      "metadata": {
        "id": "-RZqjLng0CrQ",
        "colab_type": "code",
        "colab": {}
      },
      "source": [
        "C=0"
      ],
      "execution_count": 0,
      "outputs": []
    },
    {
      "cell_type": "code",
      "metadata": {
        "id": "XcYCf_vVvfTp",
        "colab_type": "code",
        "colab": {}
      },
      "source": [
        "#text has to be in multiples of 16 bytes\n",
        "def padText(text):\n",
        "  global C\n",
        "  while((len(text)%16)!=0):\n",
        "    C+=1\n",
        "    text+=' '\n",
        "  return text"
      ],
      "execution_count": 0,
      "outputs": []
    },
    {
      "cell_type": "code",
      "metadata": {
        "id": "3MqrBs9LxQWR",
        "colab_type": "code",
        "outputId": "9bf1b172-fe37-4f4c-af65-bde4786a7d87",
        "colab": {
          "base_uri": "https://localhost:8080/",
          "height": 35
        }
      },
      "source": [
        "plain_input=input('Enter the text to be encryted: ')\n",
        "plainText=padText(plain_input)"
      ],
      "execution_count": 0,
      "outputs": [
        {
          "output_type": "stream",
          "text": [
            "Enter the text to be encryted: Omkar\n"
          ],
          "name": "stdout"
        }
      ]
    },
    {
      "cell_type": "code",
      "metadata": {
        "id": "BJcG6ASuxQdE",
        "colab_type": "code",
        "outputId": "eebbc687-b465-41fa-ecd4-60b1a88b86c3",
        "colab": {
          "base_uri": "https://localhost:8080/",
          "height": 35
        }
      },
      "source": [
        "key_input=input('Enter in a key between 16 and 32 characters: ')\n",
        "key=padKey(key_input)"
      ],
      "execution_count": 0,
      "outputs": [
        {
          "output_type": "stream",
          "text": [
            "Enter in a key between 16 and 32 characters: 45678912356987\n"
          ],
          "name": "stdout"
        }
      ]
    },
    {
      "cell_type": "code",
      "metadata": {
        "id": "aBEUbmGkyBWi",
        "colab_type": "code",
        "outputId": "35f1d663-d1f3-4f46-fff5-b8de3f83df29",
        "colab": {
          "base_uri": "https://localhost:8080/",
          "height": 35
        }
      },
      "source": [
        "cipher=AES.new(key)\n",
        "ciphertext=cipher.encrypt(plainText)\n",
        "print('CipherText: ',ciphertext)"
      ],
      "execution_count": 0,
      "outputs": [
        {
          "output_type": "stream",
          "text": [
            "CipherText:  b'1\\x91\\xad\\x0e\\x0f[:J\\x89S\\x03\\x13D\\x1e\\x04\\xb4'\n"
          ],
          "name": "stdout"
        }
      ]
    },
    {
      "cell_type": "code",
      "metadata": {
        "id": "hmK9W8V2yByO",
        "colab_type": "code",
        "outputId": "9f46df1a-073b-4de0-b18d-9b9dc46bbbe9",
        "colab": {
          "base_uri": "https://localhost:8080/",
          "height": 35
        }
      },
      "source": [
        "DPlain=cipher.decrypt(ciphertext)\n",
        "print('Decrypted PlainText: ',DPlain[:len(DPlain)-C])"
      ],
      "execution_count": 0,
      "outputs": [
        {
          "output_type": "stream",
          "text": [
            "Decrypted PlainText:  b'Omkar'\n"
          ],
          "name": "stdout"
        }
      ]
    }
  ]
}